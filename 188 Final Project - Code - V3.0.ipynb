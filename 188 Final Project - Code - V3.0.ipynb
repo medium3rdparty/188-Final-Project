{
 "cells": [
  {
   "cell_type": "code",
   "execution_count": 1,
   "metadata": {},
   "outputs": [],
   "source": [
    "\n",
    "%matplotlib inline\n",
    "\n",
    "import matplotlib.pyplot as plt\n",
    "import numpy as np\n",
    "from scipy import optimize\n",
    "from scipy.special import binom\n",
    "from scipy.optimize import brentq\n",
    "import scipy as sp\n",
    "from sklearn.preprocessing import scale, StandardScaler\n",
    "from sklearn.cross_decomposition import PLSRegression\n",
    "from sklearn.model_selection import LeaveOneGroupOut, LeaveOneOut\n",
    "import matplotlib.pyplot as plt\n",
    "\n",
    "from scipy.stats.stats import spearmanr\n",
    "import pandas as pd\n",
    "\n",
    "\n",
    "data = np.loadtxt('parkinsons_updrs_2.csv', delimiter=\",\")\n",
    "data_columns = ['subject#','age','sex','test_time','motor_UPDRS','total_UPDRS','Jitter(%)','Jitter(Abs)','Jitter:RAP','Jitter:PPQ5','Jitter:DDP','Shimmer','Shimmer(dB)','Shimmer:APQ3','Shimmer:APQ5','Shimmer:APQ11','Shimmer:DDA','NHR','HNR','RPDE','DFA','PPE']"
   ]
  },
  {
   "cell_type": "code",
   "execution_count": 2,
   "metadata": {},
   "outputs": [],
   "source": [
    "\n",
    "#_ = plt.plot(data)\n",
    "\n",
    "subject,age,sex,test_time,motor_UPDRS,total_UPDRS,Jitter_p,\\\n",
    "Jitter_Abs,Jitter_RAP,Jitter_PPQ5,Jitter_DDP,Shimmer,Shimmer_dB,\\\n",
    "Shimmer_APQ3,Shimmer_APQ5,Shimmer_APQ11,Shimmer_DDA,NHR,HNR,RPDE,DFA,PPE = np.hsplit(data,22)\n",
    "\n",
    "#for patient in subject:\n",
    " #   print(age[subject == 1])\n",
    "  #  print('a')\n",
    "    \n",
    "number = np.linspace(1,42,42)\n",
    "\n",
    "#for patient in number:\n",
    "    #print(age[subject == patient])\n",
    "    \n",
    "#_ = np.polyfit(motor_UPDRS,total_UPDRS,2)\n",
    "\n",
    "\n",
    "\n",
    "#subject = np.squeeze(subject)\n",
    "#total_UPDRS = np.squeeze(total_UPDRS)\n",
    "#Jitter_Abs = np.squeeze(Jitter_Abs)\n",
    "\n",
    "subject,age,sex,test_time,motor_UPDRS,total_UPDRS,Jitter_p, \\\n",
    "Jitter_Abs,Jitter_RAP,Jitter_PPQ5,Jitter_DDP,Shimmer,Shimmer_dB, \\\n",
    "Shimmer_APQ3,Shimmer_APQ5,Shimmer_APQ11,Shimmer_DDA,NHR,HNR,RPDE,DFA,PPE = \\\n",
    "np.squeeze(subject),np.squeeze(age),np.squeeze(sex),np.squeeze(test_time),np.squeeze(motor_UPDRS),\\\n",
    "np.squeeze(total_UPDRS),np.squeeze(Jitter_p),np.squeeze(Jitter_Abs),np.squeeze(Jitter_RAP),\\\n",
    "np.squeeze(Jitter_PPQ5),np.squeeze(Jitter_DDP),np.squeeze(Shimmer),np.squeeze(Shimmer_dB),\\\n",
    "np.squeeze(Shimmer_APQ3),np.squeeze(Shimmer_APQ5),np.squeeze(Shimmer_APQ11),np.squeeze(Shimmer_DDA),\\\n",
    "np.squeeze(NHR),np.squeeze(HNR),np.squeeze(RPDE),np.squeeze(DFA),np.squeeze(PPE)\n",
    "\n",
    "#_ = plt.scatter(HNR,NHR)\n",
    "#_ = plt.xlim(0,0.00006)"
   ]
  },
  {
   "cell_type": "markdown",
   "metadata": {},
   "source": [
    "There are 5875 measurements and 22 types of data points. Each of the types of data refer to either a doctor's observation or an observation collected by an experimental in home voice monitoring device. A description of each data time is as follows.\n",
    "\n",
    "subject# - Integer that uniquely identifies each subject\n",
    "age - Subject age\n",
    "sex - Subject gender '0' - male, '1' - female\n",
    "test_time - Time since recruitment into the trial. The integer part is the \n",
    "number of days since recruitment.\n",
    "motor_UPDRS - Clinician's motor UPDRS score, linearly interpolated\n",
    "total_UPDRS - Clinician's total UPDRS score, linearly interpolated\n",
    "Jitter(%),Jitter(Abs),Jitter:RAP,Jitter:PPQ5,Jitter:DDP - Several measures of \n",
    "variation in fundamental frequency\n",
    "Shimmer,Shimmer(dB),Shimmer:APQ3,Shimmer:APQ5,Shimmer:APQ11,Shimmer:DDA - \n",
    "Several measures of variation in amplitude\n",
    "NHR,HNR - Two measures of ratio of noise to tonal components in the voice\n",
    "RPDE - A nonlinear dynamical complexity measure\n",
    "DFA - Signal fractal scaling exponent\n",
    "PPE - A nonlinear measure of fundamental frequency variation \n",
    "\n",
    "PPE and HNR have been found by other papers to be significant factors in predicting whether patients have or do not have parkinsons. Since everyone we have data on here does have Parkinsons, we will instead try to use the data to predict UPDRS scores, which is a composite measure of the severity of the progresiion of the disease. We will first use PLSR on these two variables with cross validation and the amount of components found to explain 90% variance, as well as explore the use of all the variables in tandem. We will use UPDRS as the output Y vector"
   ]
  },
  {
   "cell_type": "code",
   "execution_count": 3,
   "metadata": {},
   "outputs": [
    {
     "data": {
      "text/html": [
       "<div>\n",
       "<style scoped>\n",
       "    .dataframe tbody tr th:only-of-type {\n",
       "        vertical-align: middle;\n",
       "    }\n",
       "\n",
       "    .dataframe tbody tr th {\n",
       "        vertical-align: top;\n",
       "    }\n",
       "\n",
       "    .dataframe thead th {\n",
       "        text-align: right;\n",
       "    }\n",
       "</style>\n",
       "<table border=\"1\" class=\"dataframe\">\n",
       "  <thead>\n",
       "    <tr style=\"text-align: right;\">\n",
       "      <th></th>\n",
       "      <th>motor_UPDRS</th>\n",
       "      <th>total_UPDRS</th>\n",
       "      <th>Jitter(%)</th>\n",
       "      <th>Jitter(Abs)</th>\n",
       "      <th>Jitter:RAP</th>\n",
       "      <th>Jitter:PPQ5</th>\n",
       "      <th>Jitter:DDP</th>\n",
       "      <th>Shimmer</th>\n",
       "      <th>Shimmer(dB)</th>\n",
       "      <th>Shimmer:APQ3</th>\n",
       "      <th>Shimmer:APQ5</th>\n",
       "      <th>Shimmer:APQ11</th>\n",
       "      <th>Shimmer:DDA</th>\n",
       "      <th>NHR</th>\n",
       "      <th>HNR</th>\n",
       "      <th>RPDE</th>\n",
       "      <th>DFA</th>\n",
       "      <th>PPE</th>\n",
       "    </tr>\n",
       "  </thead>\n",
       "  <tbody>\n",
       "    <tr>\n",
       "      <th>motor_UPDRS</th>\n",
       "      <td>NaN</td>\n",
       "      <td>0.96</td>\n",
       "      <td>0.13</td>\n",
       "      <td>0.07</td>\n",
       "      <td>0.11</td>\n",
       "      <td>0.12</td>\n",
       "      <td>0.11</td>\n",
       "      <td>0.14</td>\n",
       "      <td>0.14</td>\n",
       "      <td>0.11</td>\n",
       "      <td>0.12</td>\n",
       "      <td>0.16</td>\n",
       "      <td>0.11</td>\n",
       "      <td>0.14</td>\n",
       "      <td>-0.16</td>\n",
       "      <td>0.12</td>\n",
       "      <td>-0.13</td>\n",
       "      <td>0.16</td>\n",
       "    </tr>\n",
       "    <tr>\n",
       "      <th>total_UPDRS</th>\n",
       "      <td>0.96</td>\n",
       "      <td>NaN</td>\n",
       "      <td>0.13</td>\n",
       "      <td>0.10</td>\n",
       "      <td>0.11</td>\n",
       "      <td>0.12</td>\n",
       "      <td>0.11</td>\n",
       "      <td>0.14</td>\n",
       "      <td>0.14</td>\n",
       "      <td>0.12</td>\n",
       "      <td>0.12</td>\n",
       "      <td>0.16</td>\n",
       "      <td>0.12</td>\n",
       "      <td>0.14</td>\n",
       "      <td>-0.16</td>\n",
       "      <td>0.15</td>\n",
       "      <td>-0.14</td>\n",
       "      <td>0.16</td>\n",
       "    </tr>\n",
       "    <tr>\n",
       "      <th>Jitter(%)</th>\n",
       "      <td>0.13</td>\n",
       "      <td>0.13</td>\n",
       "      <td>NaN</td>\n",
       "      <td>0.90</td>\n",
       "      <td>0.96</td>\n",
       "      <td>0.96</td>\n",
       "      <td>0.96</td>\n",
       "      <td>0.65</td>\n",
       "      <td>0.67</td>\n",
       "      <td>0.62</td>\n",
       "      <td>0.62</td>\n",
       "      <td>0.64</td>\n",
       "      <td>0.62</td>\n",
       "      <td>0.80</td>\n",
       "      <td>-0.76</td>\n",
       "      <td>0.53</td>\n",
       "      <td>0.44</td>\n",
       "      <td>0.85</td>\n",
       "    </tr>\n",
       "    <tr>\n",
       "      <th>Jitter(Abs)</th>\n",
       "      <td>0.07</td>\n",
       "      <td>0.10</td>\n",
       "      <td>0.90</td>\n",
       "      <td>NaN</td>\n",
       "      <td>0.82</td>\n",
       "      <td>0.89</td>\n",
       "      <td>0.82</td>\n",
       "      <td>0.62</td>\n",
       "      <td>0.63</td>\n",
       "      <td>0.58</td>\n",
       "      <td>0.61</td>\n",
       "      <td>0.63</td>\n",
       "      <td>0.58</td>\n",
       "      <td>0.75</td>\n",
       "      <td>-0.76</td>\n",
       "      <td>0.63</td>\n",
       "      <td>0.49</td>\n",
       "      <td>0.80</td>\n",
       "    </tr>\n",
       "    <tr>\n",
       "      <th>Jitter:RAP</th>\n",
       "      <td>0.11</td>\n",
       "      <td>0.11</td>\n",
       "      <td>0.96</td>\n",
       "      <td>0.82</td>\n",
       "      <td>NaN</td>\n",
       "      <td>0.95</td>\n",
       "      <td>1.00</td>\n",
       "      <td>0.65</td>\n",
       "      <td>0.66</td>\n",
       "      <td>0.63</td>\n",
       "      <td>0.62</td>\n",
       "      <td>0.60</td>\n",
       "      <td>0.63</td>\n",
       "      <td>0.75</td>\n",
       "      <td>-0.73</td>\n",
       "      <td>0.45</td>\n",
       "      <td>0.43</td>\n",
       "      <td>0.77</td>\n",
       "    </tr>\n",
       "    <tr>\n",
       "      <th>Jitter:PPQ5</th>\n",
       "      <td>0.12</td>\n",
       "      <td>0.12</td>\n",
       "      <td>0.96</td>\n",
       "      <td>0.89</td>\n",
       "      <td>0.95</td>\n",
       "      <td>NaN</td>\n",
       "      <td>0.95</td>\n",
       "      <td>0.69</td>\n",
       "      <td>0.70</td>\n",
       "      <td>0.66</td>\n",
       "      <td>0.67</td>\n",
       "      <td>0.67</td>\n",
       "      <td>0.66</td>\n",
       "      <td>0.75</td>\n",
       "      <td>-0.79</td>\n",
       "      <td>0.51</td>\n",
       "      <td>0.48</td>\n",
       "      <td>0.84</td>\n",
       "    </tr>\n",
       "    <tr>\n",
       "      <th>Jitter:DDP</th>\n",
       "      <td>0.11</td>\n",
       "      <td>0.11</td>\n",
       "      <td>0.96</td>\n",
       "      <td>0.82</td>\n",
       "      <td>1.00</td>\n",
       "      <td>0.95</td>\n",
       "      <td>NaN</td>\n",
       "      <td>0.65</td>\n",
       "      <td>0.66</td>\n",
       "      <td>0.63</td>\n",
       "      <td>0.62</td>\n",
       "      <td>0.60</td>\n",
       "      <td>0.63</td>\n",
       "      <td>0.75</td>\n",
       "      <td>-0.73</td>\n",
       "      <td>0.45</td>\n",
       "      <td>0.43</td>\n",
       "      <td>0.77</td>\n",
       "    </tr>\n",
       "    <tr>\n",
       "      <th>Shimmer</th>\n",
       "      <td>0.14</td>\n",
       "      <td>0.14</td>\n",
       "      <td>0.65</td>\n",
       "      <td>0.62</td>\n",
       "      <td>0.65</td>\n",
       "      <td>0.69</td>\n",
       "      <td>0.65</td>\n",
       "      <td>NaN</td>\n",
       "      <td>0.99</td>\n",
       "      <td>0.98</td>\n",
       "      <td>0.99</td>\n",
       "      <td>0.96</td>\n",
       "      <td>0.98</td>\n",
       "      <td>0.65</td>\n",
       "      <td>-0.80</td>\n",
       "      <td>0.48</td>\n",
       "      <td>0.28</td>\n",
       "      <td>0.64</td>\n",
       "    </tr>\n",
       "    <tr>\n",
       "      <th>Shimmer(dB)</th>\n",
       "      <td>0.14</td>\n",
       "      <td>0.14</td>\n",
       "      <td>0.67</td>\n",
       "      <td>0.63</td>\n",
       "      <td>0.66</td>\n",
       "      <td>0.70</td>\n",
       "      <td>0.66</td>\n",
       "      <td>0.99</td>\n",
       "      <td>NaN</td>\n",
       "      <td>0.96</td>\n",
       "      <td>0.97</td>\n",
       "      <td>0.95</td>\n",
       "      <td>0.96</td>\n",
       "      <td>0.68</td>\n",
       "      <td>-0.78</td>\n",
       "      <td>0.47</td>\n",
       "      <td>0.26</td>\n",
       "      <td>0.66</td>\n",
       "    </tr>\n",
       "    <tr>\n",
       "      <th>Shimmer:APQ3</th>\n",
       "      <td>0.11</td>\n",
       "      <td>0.12</td>\n",
       "      <td>0.62</td>\n",
       "      <td>0.58</td>\n",
       "      <td>0.63</td>\n",
       "      <td>0.66</td>\n",
       "      <td>0.63</td>\n",
       "      <td>0.98</td>\n",
       "      <td>0.96</td>\n",
       "      <td>NaN</td>\n",
       "      <td>0.98</td>\n",
       "      <td>0.91</td>\n",
       "      <td>1.00</td>\n",
       "      <td>0.62</td>\n",
       "      <td>-0.78</td>\n",
       "      <td>0.43</td>\n",
       "      <td>0.26</td>\n",
       "      <td>0.59</td>\n",
       "    </tr>\n",
       "    <tr>\n",
       "      <th>Shimmer:APQ5</th>\n",
       "      <td>0.12</td>\n",
       "      <td>0.12</td>\n",
       "      <td>0.62</td>\n",
       "      <td>0.61</td>\n",
       "      <td>0.62</td>\n",
       "      <td>0.67</td>\n",
       "      <td>0.62</td>\n",
       "      <td>0.99</td>\n",
       "      <td>0.97</td>\n",
       "      <td>0.98</td>\n",
       "      <td>NaN</td>\n",
       "      <td>0.96</td>\n",
       "      <td>0.98</td>\n",
       "      <td>0.62</td>\n",
       "      <td>-0.79</td>\n",
       "      <td>0.46</td>\n",
       "      <td>0.29</td>\n",
       "      <td>0.62</td>\n",
       "    </tr>\n",
       "    <tr>\n",
       "      <th>Shimmer:APQ11</th>\n",
       "      <td>0.16</td>\n",
       "      <td>0.16</td>\n",
       "      <td>0.64</td>\n",
       "      <td>0.63</td>\n",
       "      <td>0.60</td>\n",
       "      <td>0.67</td>\n",
       "      <td>0.60</td>\n",
       "      <td>0.96</td>\n",
       "      <td>0.95</td>\n",
       "      <td>0.91</td>\n",
       "      <td>0.96</td>\n",
       "      <td>NaN</td>\n",
       "      <td>0.91</td>\n",
       "      <td>0.62</td>\n",
       "      <td>-0.79</td>\n",
       "      <td>0.50</td>\n",
       "      <td>0.31</td>\n",
       "      <td>0.66</td>\n",
       "    </tr>\n",
       "    <tr>\n",
       "      <th>Shimmer:DDA</th>\n",
       "      <td>0.11</td>\n",
       "      <td>0.12</td>\n",
       "      <td>0.62</td>\n",
       "      <td>0.58</td>\n",
       "      <td>0.63</td>\n",
       "      <td>0.66</td>\n",
       "      <td>0.63</td>\n",
       "      <td>0.98</td>\n",
       "      <td>0.96</td>\n",
       "      <td>1.00</td>\n",
       "      <td>0.98</td>\n",
       "      <td>0.91</td>\n",
       "      <td>NaN</td>\n",
       "      <td>0.62</td>\n",
       "      <td>-0.78</td>\n",
       "      <td>0.43</td>\n",
       "      <td>0.26</td>\n",
       "      <td>0.59</td>\n",
       "    </tr>\n",
       "    <tr>\n",
       "      <th>NHR</th>\n",
       "      <td>0.14</td>\n",
       "      <td>0.14</td>\n",
       "      <td>0.80</td>\n",
       "      <td>0.75</td>\n",
       "      <td>0.75</td>\n",
       "      <td>0.75</td>\n",
       "      <td>0.75</td>\n",
       "      <td>0.65</td>\n",
       "      <td>0.68</td>\n",
       "      <td>0.62</td>\n",
       "      <td>0.62</td>\n",
       "      <td>0.62</td>\n",
       "      <td>0.62</td>\n",
       "      <td>NaN</td>\n",
       "      <td>-0.76</td>\n",
       "      <td>0.60</td>\n",
       "      <td>0.15</td>\n",
       "      <td>0.73</td>\n",
       "    </tr>\n",
       "    <tr>\n",
       "      <th>HNR</th>\n",
       "      <td>-0.16</td>\n",
       "      <td>-0.16</td>\n",
       "      <td>-0.76</td>\n",
       "      <td>-0.76</td>\n",
       "      <td>-0.73</td>\n",
       "      <td>-0.79</td>\n",
       "      <td>-0.73</td>\n",
       "      <td>-0.80</td>\n",
       "      <td>-0.78</td>\n",
       "      <td>-0.78</td>\n",
       "      <td>-0.79</td>\n",
       "      <td>-0.79</td>\n",
       "      <td>-0.78</td>\n",
       "      <td>-0.76</td>\n",
       "      <td>NaN</td>\n",
       "      <td>-0.65</td>\n",
       "      <td>-0.36</td>\n",
       "      <td>-0.75</td>\n",
       "    </tr>\n",
       "    <tr>\n",
       "      <th>RPDE</th>\n",
       "      <td>0.12</td>\n",
       "      <td>0.15</td>\n",
       "      <td>0.53</td>\n",
       "      <td>0.63</td>\n",
       "      <td>0.45</td>\n",
       "      <td>0.51</td>\n",
       "      <td>0.45</td>\n",
       "      <td>0.48</td>\n",
       "      <td>0.47</td>\n",
       "      <td>0.43</td>\n",
       "      <td>0.46</td>\n",
       "      <td>0.50</td>\n",
       "      <td>0.43</td>\n",
       "      <td>0.60</td>\n",
       "      <td>-0.65</td>\n",
       "      <td>NaN</td>\n",
       "      <td>0.19</td>\n",
       "      <td>0.55</td>\n",
       "    </tr>\n",
       "    <tr>\n",
       "      <th>DFA</th>\n",
       "      <td>-0.13</td>\n",
       "      <td>-0.14</td>\n",
       "      <td>0.44</td>\n",
       "      <td>0.49</td>\n",
       "      <td>0.43</td>\n",
       "      <td>0.48</td>\n",
       "      <td>0.43</td>\n",
       "      <td>0.28</td>\n",
       "      <td>0.26</td>\n",
       "      <td>0.26</td>\n",
       "      <td>0.29</td>\n",
       "      <td>0.31</td>\n",
       "      <td>0.26</td>\n",
       "      <td>0.15</td>\n",
       "      <td>-0.36</td>\n",
       "      <td>0.19</td>\n",
       "      <td>NaN</td>\n",
       "      <td>0.42</td>\n",
       "    </tr>\n",
       "    <tr>\n",
       "      <th>PPE</th>\n",
       "      <td>0.16</td>\n",
       "      <td>0.16</td>\n",
       "      <td>0.85</td>\n",
       "      <td>0.80</td>\n",
       "      <td>0.77</td>\n",
       "      <td>0.84</td>\n",
       "      <td>0.77</td>\n",
       "      <td>0.64</td>\n",
       "      <td>0.66</td>\n",
       "      <td>0.59</td>\n",
       "      <td>0.62</td>\n",
       "      <td>0.66</td>\n",
       "      <td>0.59</td>\n",
       "      <td>0.73</td>\n",
       "      <td>-0.75</td>\n",
       "      <td>0.55</td>\n",
       "      <td>0.42</td>\n",
       "      <td>NaN</td>\n",
       "    </tr>\n",
       "  </tbody>\n",
       "</table>\n",
       "</div>"
      ],
      "text/plain": [
       "               motor_UPDRS  total_UPDRS  Jitter(%)  Jitter(Abs)  Jitter:RAP  \\\n",
       "motor_UPDRS            NaN         0.96       0.13         0.07        0.11   \n",
       "total_UPDRS           0.96          NaN       0.13         0.10        0.11   \n",
       "Jitter(%)             0.13         0.13        NaN         0.90        0.96   \n",
       "Jitter(Abs)           0.07         0.10       0.90          NaN        0.82   \n",
       "Jitter:RAP            0.11         0.11       0.96         0.82         NaN   \n",
       "Jitter:PPQ5           0.12         0.12       0.96         0.89        0.95   \n",
       "Jitter:DDP            0.11         0.11       0.96         0.82        1.00   \n",
       "Shimmer               0.14         0.14       0.65         0.62        0.65   \n",
       "Shimmer(dB)           0.14         0.14       0.67         0.63        0.66   \n",
       "Shimmer:APQ3          0.11         0.12       0.62         0.58        0.63   \n",
       "Shimmer:APQ5          0.12         0.12       0.62         0.61        0.62   \n",
       "Shimmer:APQ11         0.16         0.16       0.64         0.63        0.60   \n",
       "Shimmer:DDA           0.11         0.12       0.62         0.58        0.63   \n",
       "NHR                   0.14         0.14       0.80         0.75        0.75   \n",
       "HNR                  -0.16        -0.16      -0.76        -0.76       -0.73   \n",
       "RPDE                  0.12         0.15       0.53         0.63        0.45   \n",
       "DFA                  -0.13        -0.14       0.44         0.49        0.43   \n",
       "PPE                   0.16         0.16       0.85         0.80        0.77   \n",
       "\n",
       "               Jitter:PPQ5  Jitter:DDP  Shimmer  Shimmer(dB)  Shimmer:APQ3  \\\n",
       "motor_UPDRS           0.12        0.11     0.14         0.14          0.11   \n",
       "total_UPDRS           0.12        0.11     0.14         0.14          0.12   \n",
       "Jitter(%)             0.96        0.96     0.65         0.67          0.62   \n",
       "Jitter(Abs)           0.89        0.82     0.62         0.63          0.58   \n",
       "Jitter:RAP            0.95        1.00     0.65         0.66          0.63   \n",
       "Jitter:PPQ5            NaN        0.95     0.69         0.70          0.66   \n",
       "Jitter:DDP            0.95         NaN     0.65         0.66          0.63   \n",
       "Shimmer               0.69        0.65      NaN         0.99          0.98   \n",
       "Shimmer(dB)           0.70        0.66     0.99          NaN          0.96   \n",
       "Shimmer:APQ3          0.66        0.63     0.98         0.96           NaN   \n",
       "Shimmer:APQ5          0.67        0.62     0.99         0.97          0.98   \n",
       "Shimmer:APQ11         0.67        0.60     0.96         0.95          0.91   \n",
       "Shimmer:DDA           0.66        0.63     0.98         0.96          1.00   \n",
       "NHR                   0.75        0.75     0.65         0.68          0.62   \n",
       "HNR                  -0.79       -0.73    -0.80        -0.78         -0.78   \n",
       "RPDE                  0.51        0.45     0.48         0.47          0.43   \n",
       "DFA                   0.48        0.43     0.28         0.26          0.26   \n",
       "PPE                   0.84        0.77     0.64         0.66          0.59   \n",
       "\n",
       "               Shimmer:APQ5  Shimmer:APQ11  Shimmer:DDA   NHR   HNR  RPDE  \\\n",
       "motor_UPDRS            0.12           0.16         0.11  0.14 -0.16  0.12   \n",
       "total_UPDRS            0.12           0.16         0.12  0.14 -0.16  0.15   \n",
       "Jitter(%)              0.62           0.64         0.62  0.80 -0.76  0.53   \n",
       "Jitter(Abs)            0.61           0.63         0.58  0.75 -0.76  0.63   \n",
       "Jitter:RAP             0.62           0.60         0.63  0.75 -0.73  0.45   \n",
       "Jitter:PPQ5            0.67           0.67         0.66  0.75 -0.79  0.51   \n",
       "Jitter:DDP             0.62           0.60         0.63  0.75 -0.73  0.45   \n",
       "Shimmer                0.99           0.96         0.98  0.65 -0.80  0.48   \n",
       "Shimmer(dB)            0.97           0.95         0.96  0.68 -0.78  0.47   \n",
       "Shimmer:APQ3           0.98           0.91         1.00  0.62 -0.78  0.43   \n",
       "Shimmer:APQ5            NaN           0.96         0.98  0.62 -0.79  0.46   \n",
       "Shimmer:APQ11          0.96            NaN         0.91  0.62 -0.79  0.50   \n",
       "Shimmer:DDA            0.98           0.91          NaN  0.62 -0.78  0.43   \n",
       "NHR                    0.62           0.62         0.62   NaN -0.76  0.60   \n",
       "HNR                   -0.79          -0.79        -0.78 -0.76   NaN -0.65   \n",
       "RPDE                   0.46           0.50         0.43  0.60 -0.65   NaN   \n",
       "DFA                    0.29           0.31         0.26  0.15 -0.36  0.19   \n",
       "PPE                    0.62           0.66         0.59  0.73 -0.75  0.55   \n",
       "\n",
       "                DFA   PPE  \n",
       "motor_UPDRS   -0.13  0.16  \n",
       "total_UPDRS   -0.14  0.16  \n",
       "Jitter(%)      0.44  0.85  \n",
       "Jitter(Abs)    0.49  0.80  \n",
       "Jitter:RAP     0.43  0.77  \n",
       "Jitter:PPQ5    0.48  0.84  \n",
       "Jitter:DDP     0.43  0.77  \n",
       "Shimmer        0.28  0.64  \n",
       "Shimmer(dB)    0.26  0.66  \n",
       "Shimmer:APQ3   0.26  0.59  \n",
       "Shimmer:APQ5   0.29  0.62  \n",
       "Shimmer:APQ11  0.31  0.66  \n",
       "Shimmer:DDA    0.26  0.59  \n",
       "NHR            0.15  0.73  \n",
       "HNR           -0.36 -0.75  \n",
       "RPDE           0.19  0.55  \n",
       "DFA             NaN  0.42  \n",
       "PPE            0.42   NaN  "
      ]
     },
     "execution_count": 3,
     "metadata": {},
     "output_type": "execute_result"
    }
   ],
   "source": [
    "df = pd.read_csv('parkinsons_updrs.csv')\n",
    "\n",
    "corr = np.zeros([len(data_columns),len(data_columns)])\n",
    "\n",
    "x = 4\n",
    "for n in data_columns:\n",
    "    y = 4\n",
    "    if(n != 'subject#' and n != 'age' and n != 'sex' and n != 'test_time'):\n",
    "        for m in data_columns:\n",
    "            if(m != 'subject#' and m != 'age' and m != 'sex' and m != 'test_time'):\n",
    "                #print(n,m)\n",
    "                #corrA = (spearmanr(df[n], df[m])[0])\n",
    "                corrA = (round(spearmanr(df[n], df[m])[0],2)) #round to 2 decimals\n",
    "                if(n == m):\n",
    "                    corrA = None\n",
    "                #print(x,y)\n",
    "                corr[x,y] = corrA\n",
    "                y+=1\n",
    "        x+=1\n",
    "        \n",
    "corr_table = pd.DataFrame(corr[4:22,4:22], data_columns[4:22], data_columns[4:22])\n",
    "corr_table"
   ]
  },
  {
   "cell_type": "code",
   "execution_count": 4,
   "metadata": {},
   "outputs": [
    {
     "name": "stdout",
     "output_type": "stream",
     "text": [
      "Our generated Correlation Coefficient is 0.07424666887775341 for relationship between total UPDRS and  Jitter(%)\n",
      "Our generated Correlation Coefficient is 0.06692562254183246 for relationship between total UPDRS and  Jitter(Abs)\n",
      "Our generated Correlation Coefficient is 0.06401541705530793 for relationship between total UPDRS and  Jitter:RAP\n",
      "Our generated Correlation Coefficient is 0.06335177531159589 for relationship between total UPDRS and  Jitter:PPQ5\n",
      "Our generated Correlation Coefficient is 0.06402745721052842 for relationship between total UPDRS and  Jitter:DDP\n",
      "Our generated Correlation Coefficient is 0.09214091373482056 for relationship between total UPDRS and  Shimmer\n",
      "Our generated Correlation Coefficient is 0.09878973052896535 for relationship between total UPDRS and  Shimmer(dB)\n",
      "Our generated Correlation Coefficient is 0.07936271837795872 for relationship between total UPDRS and  Shimmer:APQ3\n",
      "Our generated Correlation Coefficient is 0.08346725201072148 for relationship between total UPDRS and  Shimmer:APQ5\n",
      "Our generated Correlation Coefficient is 0.12083750435705598 for relationship between total UPDRS and  Shimmer:APQ11\n",
      "Our generated Correlation Coefficient is 0.07936324229131082 for relationship between total UPDRS and  Shimmer:DDA\n",
      "Our generated Correlation Coefficient is 0.060951643948545804 for relationship between total UPDRS and  NHR\n",
      "Our generated Correlation Coefficient is -0.16211682866527904 for relationship between total UPDRS and  HNR\n",
      "Our generated Correlation Coefficient is 0.15689650648329304 for relationship between total UPDRS and  RPDE\n",
      "Our generated Correlation Coefficient is -0.11347482979564716 for relationship between total UPDRS and  DFA\n",
      "Our generated Correlation Coefficient is 0.9472313141314953 for relationship between total UPDRS and  motor_UPDRS\n"
     ]
    }
   ],
   "source": [
    "# First I want to check the correlation coefficient of each of the variables with the UPDRS scores. Some are in DB and\n",
    "#some are non-linear, so not all results will be useful\n",
    "Y = data[:,5]\n",
    "\n",
    "for i in range (6,21):\n",
    "    corrco = np.corrcoef(Y, data[:,i])\n",
    "    corrco = corrco[1,0]\n",
    "    print ('Our generated Correlation Coefficient is', corrco, 'for relationship between total UPDRS and ',data_columns[i])\n",
    "    \n",
    "\n",
    "corrco = np.corrcoef(Y, data[:,4])\n",
    "corrco = corrco[1,0]\n",
    "print ('Our generated Correlation Coefficient is', corrco, 'for relationship between total UPDRS and ',data_columns[4])"
   ]
  },
  {
   "cell_type": "code",
   "execution_count": 5,
   "metadata": {},
   "outputs": [
    {
     "data": {
      "text/plain": [
       "Text(0, 0.5, 'R2Y - Percent coVar Explained')"
      ]
     },
     "execution_count": 5,
     "metadata": {},
     "output_type": "execute_result"
    },
    {
     "data": {
      "image/png": "[encoded data removed]",
      "text/plain": [
       "<Figure size 432x288 with 1 Axes>"
      ]
     },
     "metadata": {
      "needs_background": "light"
     },
     "output_type": "display_data"
    }
   ],
   "source": [
    "from sklearn.preprocessing import PowerTransformer\n",
    "from scipy import stats\n",
    "#with all variables except gender and test time\n",
    "R2yhold = np.zeros(15)\n",
    "componhold = np.zeros(15)\n",
    "Y = data[:,5]\n",
    "X = data[:,6:21]\n",
    "pt = PowerTransformer()\n",
    "pt.fit(X)\n",
    "PowerTransformer(copy=True, method='yeo-johnson', standardize=True)\n",
    "X = pt.transform(X)\n",
    "\n",
    "\n",
    "\n",
    "for i in range (1,len(R2yhold)):\n",
    "    PLSRfun = PLSRegression (n_components=i)\n",
    "    componhold[i-1] = i\n",
    "    mod = PLSRfun.fit_transform(scale(X),scale(Y))\n",
    "    R2yhold [i-1] = PLSRfun.score(scale(X),scale(Y))\n",
    "    if R2yhold [i-1] > .9 and checker == 0:\n",
    "        print('90% covariance is explained when using ',i,'components')\n",
    "        checker = checker+1\n",
    "        \n",
    "plt.figure()\n",
    "plt.scatter(componhold,R2yhold)\n",
    "plt.title('Percent Covariance Explained Using All Variables')\n",
    "plt.xlabel('Num Components')\n",
    "plt.ylabel('R2Y - Percent coVar Explained')"
   ]
  },
  {
   "cell_type": "markdown",
   "metadata": {},
   "source": [
    "We will use 4 components with all our varialbes as it gives us the best mix of computational efficiency and R2Y. This covariance explained is less than optimal - we will continue to try to use PLSR and see if we can get a good relationship between our predicted results and measured results using leave one out cross validation"
   ]
  },
  {
   "cell_type": "code",
   "execution_count": 6,
   "metadata": {},
   "outputs": [
    {
     "name": "stdout",
     "output_type": "stream",
     "text": [
      "Our generated Correlation Coefficient is 0.32416562451650255\n",
      "This beats our previous best correlation coefficient of 0.16 for RPDE\n"
     ]
    },
    {
     "data": {
      "image/png": "[encoded data removed]",
      "text/plain": [
       "<Figure size 432x288 with 1 Axes>"
      ]
     },
     "metadata": {
      "needs_background": "light"
     },
     "output_type": "display_data"
    }
   ],
   "source": [
    "#leave one out\n",
    "from sklearn.model_selection import LeaveOneOut\n",
    "Y = data[:,5]\n",
    "X = data[:,6:21]\n",
    "pt = PowerTransformer()\n",
    "pt.fit(X)\n",
    "PowerTransformer(copy=True, method='yeo-johnson', standardize=True)\n",
    "X = pt.transform(X)\n",
    "leave = LeaveOneOut()\n",
    "leaveoneoutindices = np.arange(len(X))\n",
    "predictholder = np.zeros(len(X))\n",
    "plt.figure()\n",
    "plt.xlabel('True UPDRS Score')\n",
    "plt.ylabel('Predicted UPDRS score')\n",
    "scaledX=scale(X)\n",
    "scaledY = scale(Y)\n",
    "\n",
    "\n",
    "for train_index, test_index in leave.split(leaveoneoutindices):\n",
    "    trainX = scaledX[train_index]\n",
    "    trainY = scaledY[train_index]\n",
    "    PLS = PLSRegression(n_components = 4, max_iter = 1000)\n",
    "    trainedmod = PLSRfun.fit_transform(trainX,trainY)\n",
    "    predictholder[test_index] = PLSRfun.predict(scaledX[test_index])\n",
    "\n",
    "plt.scatter(Y,predictholder)\n",
    "#need to calculate r2y\n",
    "r2y = 1-(np.sum((scale(predictholder)-scaledY)**2))/(np.sum((scaledY)**2))\n",
    "\n",
    "corrco = np.corrcoef(Y, predictholder)\n",
    "corrco = corrco[1,0]\n",
    "print ('Our generated Correlation Coefficient is', corrco)\n",
    "print('This beats our previous best correlation coefficient of 0.16 for RPDE')"
   ]
  },
  {
   "cell_type": "markdown",
   "metadata": {},
   "source": [
    "Now let's try with cross validation and groups of 25 observations."
   ]
  },
  {
   "cell_type": "code",
   "execution_count": 7,
   "metadata": {
    "scrolled": true
   },
   "outputs": [
    {
     "data": {
      "text/plain": [
       "<matplotlib.collections.PathCollection at 0x120f02048>"
      ]
     },
     "execution_count": 7,
     "metadata": {},
     "output_type": "execute_result"
    },
    {
     "data": {
      "image/png": "[encoded data removed]",
      "text/plain": [
       "<Figure size 432x288 with 1 Axes>"
      ]
     },
     "metadata": {
      "needs_background": "light"
     },
     "output_type": "display_data"
    }
   ],
   "source": [
    "#k = 25 - fold cross validation\n",
    "from sklearn.model_selection import KFold\n",
    "Y = data[:,5]\n",
    "X = data[:,6:21]\n",
    "pt = PowerTransformer()\n",
    "pt.fit(X)\n",
    "PowerTransformer(copy=True, method='yeo-johnson', standardize=True)\n",
    "X = pt.transform(X)\n",
    "kf = KFold(n_splits=int(len(X)/25), shuffle=True)\n",
    "\n",
    "leaveoneoutindices = np.arange(len(X))\n",
    "predictholder = np.zeros(len(X))\n",
    "plt.figure()\n",
    "plt.xlabel('True UPDRS Score')\n",
    "plt.ylabel('Predicted UPDRS score')\n",
    "scaledX=scale(X)\n",
    "scaledY = scale(Y)\n",
    "checker = 0\n",
    "\n",
    "\n",
    "for train_index, test_index in kf.split(leaveoneoutindices):\n",
    "    trainX = scaledX[train_index]\n",
    "    trainY = scaledY[train_index]\n",
    "    PLS = PLSRegression(n_components = 4, max_iter = 1000)\n",
    "    trainedmod = PLSRfun.fit_transform(trainX,trainY)\n",
    "    predicts = PLSRfun.predict(scaledX[test_index])\n",
    "    for i in range (0,len(test_index)):\n",
    "        predictholder[test_index[i]] = predicts[i]\n",
    "                               \n",
    "plt.scatter(Y,predictholder)\n",
    "#need to calculate r2y\n"
   ]
  },
  {
   "cell_type": "code",
   "execution_count": 8,
   "metadata": {},
   "outputs": [
    {
     "name": "stdout",
     "output_type": "stream",
     "text": [
      "Our generated Correlation Coefficient is 0.32432623996206467\n",
      "This beats our previous best correlation coefficient of 0.16 for RPDE\n"
     ]
    }
   ],
   "source": [
    "corrco = np.corrcoef(Y, predictholder)\n",
    "corrco = corrco[1,0]\n",
    "print ('Our generated Correlation Coefficient is', corrco)\n",
    "print('This beats our previous best correlation coefficient of 0.16 for RPDE')"
   ]
  },
  {
   "cell_type": "markdown",
   "metadata": {},
   "source": [
    "Lets see if we can get better prediciton accuracy while only using our 4 best correlated variables with total UPDRS. We're having some errors here unfortunately."
   ]
  },
  {
   "cell_type": "markdown",
   "metadata": {},
   "source": [
    "Using more variables leads to better predictions, and substituting motor and total UPDRS scores seems to make a negligible difference. There do seem to be some points that are lessening our prediction accuracy towards the larger UPDRS scores though"
   ]
  },
  {
   "cell_type": "code",
   "execution_count": 9,
   "metadata": {},
   "outputs": [
    {
     "data": {
      "image/png": "[encoded data removed]",
      "text/plain": [
       "<Figure size 864x576 with 1 Axes>"
      ]
     },
     "metadata": {
      "needs_background": "light"
     },
     "output_type": "display_data"
    }
   ],
   "source": [
    "colorsmat = ['b','g','c','m','y','k','burlywood','chocolate','darkorchid','coral','magenta','lavender','lawngreen','indigo','darksalmon']\n",
    "Y = data[:,5]\n",
    "X = data[:,6:21]\n",
    "pt = PowerTransformer()\n",
    "pt.fit(X)\n",
    "PowerTransformer(copy=True, method='yeo-johnson', standardize=True)\n",
    "X = pt.transform(X)\n",
    "PLSRfun = PLSRegression (n_components=4)\n",
    "mod1,mod2 = PLSRfun.fit_transform(scale(X),scale(Y))\n",
    "xloadscores,yloadscores = PLSRfun.x_loadings_, PLSRfun.y_loadings_\n",
    "\n",
    "plt.figure(figsize=(12, 8))\n",
    "plt.title('Loadings Plot for Various at Home Voice Recording Metrics and UPDRS Score')\n",
    "plt.xlabel('Primary component 1')\n",
    "plt.ylabel('Primary component 2')\n",
    "plt.scatter(yloadscores[:,0],yloadscores[:,1],c = 'r', label = 'UPDRS Composite Score')\n",
    "\n",
    "for i in range (0,14):\n",
    "    plt.scatter(xloadscores[i,0],xloadscores[i,1],c = colorsmat[i], label = data_columns[i+6])\n",
    "plt.legend(bbox_to_anchor=(1.05, 1), loc=2, borderaxespad=0.)\n",
    "plt.show()\n"
   ]
  },
  {
   "cell_type": "markdown",
   "metadata": {},
   "source": [
    "Now lets examine the accuracy of voice metrics for each patient, and see if there are dramatic differences in whether voice is a useful predictor of UPDRS scores for each one using LOOCV."
   ]
  },
  {
   "cell_type": "code",
   "execution_count": 10,
   "metadata": {},
   "outputs": [
    {
     "data": {
      "image/png": "[encoded data removed]",
      "text/plain": [
       "<Figure size 864x576 with 1 Axes>"
      ]
     },
     "metadata": {
      "needs_background": "light"
     },
     "output_type": "display_data"
    }
   ],
   "source": [
    "plt.figure(figsize = (12,8))\n",
    "plt.title('Prediction Accuracy Vs. Patient Using LOOCV')\n",
    "plt.xlabel('Subject Number')\n",
    "plt.ylabel('Prediction Accuracy (Correlation Coefficient)')\n",
    "for i in range(0, int(np.amax(data[:,0]))):    \n",
    "    subjects = data[:,0]\n",
    "    Y = data[subjects == (i+1),5]\n",
    "    X = data[subjects == (i+1),6:21]\n",
    "    leave = LeaveOneOut()\n",
    "    leaveoneoutindices = np.arange(len(X))\n",
    "    predictholder = np.zeros(len(X))\n",
    "    pt = PowerTransformer()\n",
    "    pt.fit(X)\n",
    "    PowerTransformer(copy=True, method='yeo-johnson', standardize=True)\n",
    "    X = pt.transform(X)\n",
    "    scaledX=scale(X)\n",
    "    scaledY = scale(Y)\n",
    "\n",
    "\n",
    "    for train_index, test_index in leave.split(leaveoneoutindices):\n",
    "        trainX = scaledX[train_index]\n",
    "        trainY = scaledY[train_index]\n",
    "        PLS = PLSRegression(n_components = 4, max_iter = 1000)\n",
    "        trainedmod = PLSRfun.fit_transform(trainX,trainY)\n",
    "        predictholder[test_index] = PLSRfun.predict(scaledX[test_index])\n",
    "\n",
    "    \n",
    "    corrco = np.corrcoef(Y, predictholder)\n",
    "    corrco = corrco[1,0]\n",
    "    plt.scatter(i+1,corrco)\n",
    "    #print ('Our generated Correlation Coefficient is', corrco, ' for patient number', i+1)"
   ]
  },
  {
   "cell_type": "markdown",
   "metadata": {},
   "source": [
    "It seems that the two most useful metrics for predicting UPDRS scores are RPDE and HNR measurements. This is corroborated by the fact that these two metrics have the highest correllation coefficient with UPDRS scores. RPDE and HNR represent scores measuring the nonlinear dynamical complexity of recordings, and the ratio of noise to tonal components in the voice respectively. Here we can infer that observations with high RPDE likely have higher UPDRS scores, and that the opposite is likely true of patients with high HNR scores. It is interesting that even though NHR and HNR are described relatively similarly as metrics of voice recordings, they have completely different loadings scores. This gives us somewhat contradicting evidence, as it suggests that patients with more severe Parkinson's progression have more dynamical complexity in their voice, but also a lower noise to tone score. One conclusion may be that patients with more severe disease progression speak in in sporadic tones, which would increase complexity of voice recordings and decrease noise to tone ratio.\n",
    "\n",
    "While most of the metrics recorded by the in home telemonitoring device have relatively weak correlations with repordted UPDRS scores, we have shown that the composite use of all recording metrics in conjunction with PLSR methods is useful in predicting UPDRS scores, and allows us to produce a model that produces better correlation coefficients with results than any other voice metric. However, as we were only able to produce a model with a somewhat low correlation coefficient of 0.295 with LOOCV and 0.265 with k-fold between true and predicted UPDRS scores, it seems that this at home monitor may only be useful over the long term, and only in stages where physicians might expect the disease to progress rapidly. Given the lengthy time scale of the progression of Parkinsons (20 years), the best use of the technology as is may be to help physicians know when to reach out to patients to schedule check ups instead of putting the onus on the patient. It is also notable that for some patients the PLSR model produces very useful information, with predictions exceeding 70 percent correlation with UPDRS scores. If one could isolate the reason for these people's predictability, the telemonitoring device could only be applied when it would be most useful. Perhaps the at home voice measurements use more standardized voice tests, asking patients to say certain sentences with pre-described intonations, and therefore provide more standardized metrics for better prediction accuracy."
   ]
  },
  {
   "cell_type": "code",
   "execution_count": 11,
   "metadata": {},
   "outputs": [
    {
     "data": {
      "text/plain": [
       "Text(0.5, 1.0, 'Shimmer DDA - Transformed')"
      ]
     },
     "execution_count": 11,
     "metadata": {},
     "output_type": "execute_result"
    },
    {
     "data": {
      "image/png": "[encoded data removed]",
      "text/plain": [
       "<Figure size 432x288 with 1 Axes>"
      ]
     },
     "metadata": {
      "needs_background": "light"
     },
     "output_type": "display_data"
    },
    {
     "data": {
      "image/png": "[encoded data removed]",
      "text/plain": [
       "<Figure size 432x288 with 1 Axes>"
      ]
     },
     "metadata": {
      "needs_background": "light"
     },
     "output_type": "display_data"
    }
   ],
   "source": [
    "a = data[:,16]\n",
    "plt.hist(a)\n",
    "plt.title('Shimmer DDA - Untransformed')\n",
    "plt.figure()\n",
    "Y = data[:,5]\n",
    "X = data[:,6:21]\n",
    "pt = PowerTransformer()\n",
    "pt.fit(X)\n",
    "PowerTransformer(copy=True, method='yeo-johnson', standardize=True)\n",
    "X = pt.transform(X)\n",
    "plt.hist(X[:,10])\n",
    "plt.title('Shimmer DDA - Transformed')"
   ]
  },
  {
   "cell_type": "code",
   "execution_count": 43,
   "metadata": {},
   "outputs": [
    {
     "name": "stdout",
     "output_type": "stream",
     "text": [
      "linear svm accuracy = 0.6611063829787234\n"
     ]
    },
    {
     "name": "stderr",
     "output_type": "stream",
     "text": [
      "/Library/Frameworks/Python.framework/Versions/3.6/lib/python3.6/site-packages/sklearn/svm/base.py:931: ConvergenceWarning: Liblinear failed to converge, increase the number of iterations.\n",
      "  \"the number of iterations.\", ConvergenceWarning)\n"
     ]
    }
   ],
   "source": [
    "from sklearn import svm\n",
    "\n",
    "Y = data[:,5]\n",
    "X = data[:,6:21]\n",
    "\n",
    "classholder = np.zeros(len(Y))\n",
    "\n",
    "for i in range (0,(len(Y))):\n",
    "    if Y[i] < 20:\n",
    "        classholder[i] = 0\n",
    "    elif Y[i] < 40:\n",
    "        classholder[i] = 1\n",
    "    else:\n",
    "        classholder[i] = 2\n",
    "    \n",
    "\n",
    "svm_L = svm.LinearSVC(random_state = 0)\n",
    "svm_L.fit(scale(X),classholder)\n",
    "accuracy = svm_L.score(scale(X),classholder)\n",
    "P = svm_L.predict(scale(X))\n",
    "#confusions_matrix = confusion_matrix(Y, P)\n",
    "#print(confusions_matrix)\n",
    "print('linear svm accuracy = ' + str(accuracy))"
   ]
  },
  {
   "cell_type": "code",
   "execution_count": 45,
   "metadata": {},
   "outputs": [
    {
     "name": "stdout",
     "output_type": "stream",
     "text": [
      "poly svm accuracy = 0.660936170212766\n",
      "rbf svm accuracy = 0.6978723404255319\n",
      "sigmoid svm accuracy = 0.49957446808510636\n"
     ]
    }
   ],
   "source": [
    "svm_poly = svm.SVC(kernel = 'poly')\n",
    "svm_poly.fit(scale(X),classholder)\n",
    "accuracy = svm_poly.score(scale(X),classholder)\n",
    "print('poly svm accuracy = ' + str(accuracy))\n",
    "\n",
    "svm_rbf = svm.SVC(kernel = 'rbf')\n",
    "svm_rbf.fit(scale(X),classholder)\n",
    "accuracy = svm_rbf.score(scale(X),classholder)\n",
    "print('rbf svm accuracy = ' + str(accuracy))\n",
    "\n",
    "svm_sig = svm.SVC(kernel = 'sigmoid')\n",
    "svm_sig.fit(scale(X),classholder)\n",
    "accuracy = svm_sig.score(scale(X),classholder)\n",
    "print('sigmoid svm accuracy = ' + str(accuracy))"
   ]
  },
  {
   "cell_type": "markdown",
   "metadata": {},
   "source": [
    "It seems that RBF (Radial Base Function) scores are the most accurate"
   ]
  },
  {
   "cell_type": "code",
   "execution_count": 90,
   "metadata": {},
   "outputs": [
    {
     "name": "stderr",
     "output_type": "stream",
     "text": [
      "/Library/Frameworks/Python.framework/Versions/3.6/lib/python3.6/site-packages/sklearn/model_selection/_split.py:2053: FutureWarning: You should specify a value for 'cv' instead of relying on the default value. The default value will change from 3 to 5 in version 0.22.\n",
      "  warnings.warn(CV_WARNING, FutureWarning)\n"
     ]
    }
   ],
   "source": [
    "from sklearn.datasets import make_friedman1\n",
    "from sklearn.feature_selection import RFECV\n",
    "from sklearn.svm import SVR\n",
    "from sklearn.model_selection import StratifiedKFold\n",
    "\n",
    "#estimator = SVR(kernel=\"linear\")\n",
    "estimator = svm.SVC(kernel = 'linear')\n",
    "selector = RFECV(estimator)\n",
    "selectorfit = selector.fit(scale(X), classholder)"
   ]
  },
  {
   "cell_type": "code",
   "execution_count": 91,
   "metadata": {},
   "outputs": [
    {
     "name": "stdout",
     "output_type": "stream",
     "text": [
      "[0.6115746  0.6115746  0.6115746  0.6115746  0.6115746  0.62058821\n",
      " 0.62774184 0.61684619 0.61769644 0.62127031 0.62024885 0.62246122\n",
      " 0.62178034 0.62178034 0.62773428]\n",
      "[ True  True False False False False False  True False  True False  True\n",
      "  True False  True]\n",
      "[1 1 6 5 8 3 4 1 2 1 7 1 1 9 1]\n",
      "7\n"
     ]
    },
    {
     "data": {
      "text/plain": [
       "[<matplotlib.lines.Line2D at 0x1222e1978>]"
      ]
     },
     "execution_count": 91,
     "metadata": {},
     "output_type": "execute_result"
    },
    {
     "data": {
      "image/png": "[encoded data removed]",
      "text/plain": [
       "<Figure size 432x288 with 1 Axes>"
      ]
     },
     "metadata": {
      "needs_background": "light"
     },
     "output_type": "display_data"
    }
   ],
   "source": [
    "selectorgscore = selectorfit.grid_scores_\n",
    "print(selectorgscore)\n",
    "print(selector.support_)\n",
    "print(selector.ranking_)\n",
    "print(selector.n_features_)\n",
    "#plt.scatter(selector.ranking_,selectorgscore)\n",
    "plt.plot(range(1,len(selectorgscore)+1), selectorgscore)"
   ]
  },
  {
   "cell_type": "code",
   "execution_count": 100,
   "metadata": {},
   "outputs": [],
   "source": [
    "from sklearn.model_selection import StratifiedKFold \n",
    "\n",
    "def crossval(X_in,c):\n",
    "    kfs = StratifiedKFold(n_splits = 5, shuffle = True)\n",
    "    accs = np.zeros(5)\n",
    "    count = 0\n",
    "    \n",
    "    for train_index, test_index in kfs.split(X_in,classholder):\n",
    "        X_train, X_test = X_in[train_index], X_in[test_index]\n",
    "        classholder_train, classholder_test = classholder[train_index], classholder[test_index]\n",
    "        model = svm.SVC(C = c, kernel ='linear')\n",
    "        model.fit(X_train,classholder_train)\n",
    "        accs[count] = model.score(X_test,classholder_test)\n",
    "        count = count + 1\n",
    "    return np.mean(accs)"
   ]
  },
  {
   "cell_type": "code",
   "execution_count": 101,
   "metadata": {},
   "outputs": [
    {
     "name": "stdout",
     "output_type": "stream",
     "text": [
      "c --- pred accuracy\n",
      "0.1   0.6544683642369995\n",
      "1.0   0.6568503273240696\n"
     ]
    },
    {
     "ename": "KeyboardInterrupt",
     "evalue": "",
     "output_type": "error",
     "traceback": [
      "\u001b[0;31m---------------------------------------------------------------------------\u001b[0m",
      "\u001b[0;31mKeyboardInterrupt\u001b[0m                         Traceback (most recent call last)",
      "\u001b[0;32m<ipython-input-101-60530569f808>\u001b[0m in \u001b[0;36m<module>\u001b[0;34m\u001b[0m\n\u001b[1;32m      7\u001b[0m     \u001b[0;31m#accs = model.score(scale(X),classholder)\u001b[0m\u001b[0;34m\u001b[0m\u001b[0;34m\u001b[0m\u001b[0m\n\u001b[1;32m      8\u001b[0m     \u001b[0;31m#preds, accs2 = find_svm(X_small,Y_small,'rbf', c , g)\u001b[0m\u001b[0;34m\u001b[0m\u001b[0;34m\u001b[0m\u001b[0m\n\u001b[0;32m----> 9\u001b[0;31m     \u001b[0mprint\u001b[0m\u001b[0;34m(\u001b[0m\u001b[0mstr\u001b[0m\u001b[0;34m(\u001b[0m\u001b[0mc\u001b[0m\u001b[0;34m)\u001b[0m \u001b[0;34m+\u001b[0m \u001b[0;34m'   '\u001b[0m \u001b[0;34m+\u001b[0m \u001b[0mstr\u001b[0m\u001b[0;34m(\u001b[0m\u001b[0mcrossval\u001b[0m\u001b[0;34m(\u001b[0m\u001b[0mX_scaled\u001b[0m\u001b[0;34m,\u001b[0m \u001b[0mc\u001b[0m\u001b[0;34m)\u001b[0m\u001b[0;34m)\u001b[0m\u001b[0;34m)\u001b[0m\u001b[0;34m\u001b[0m\u001b[0m\n\u001b[0m\u001b[1;32m     10\u001b[0m \u001b[0;34m\u001b[0m\u001b[0m\n\u001b[1;32m     11\u001b[0m \u001b[0mprint\u001b[0m\u001b[0;34m(\u001b[0m\u001b[0;34m\"Complexity, or c value seems to yeild the best scores at 1.0. Changing g doesn't change the accuracy, but this makes sense as changing gamma only changes the accuracy when using rbf, which we cannot use (we must use linear).\"\u001b[0m\u001b[0;34m)\u001b[0m\u001b[0;34m\u001b[0m\u001b[0m\n",
      "\u001b[0;32m<ipython-input-100-60d1931be283>\u001b[0m in \u001b[0;36mcrossval\u001b[0;34m(X_in, c)\u001b[0m\n\u001b[1;32m     10\u001b[0m         \u001b[0mclassholder_train\u001b[0m\u001b[0;34m,\u001b[0m \u001b[0mclassholder_test\u001b[0m \u001b[0;34m=\u001b[0m \u001b[0mclassholder\u001b[0m\u001b[0;34m[\u001b[0m\u001b[0mtrain_index\u001b[0m\u001b[0;34m]\u001b[0m\u001b[0;34m,\u001b[0m \u001b[0mclassholder\u001b[0m\u001b[0;34m[\u001b[0m\u001b[0mtest_index\u001b[0m\u001b[0;34m]\u001b[0m\u001b[0;34m\u001b[0m\u001b[0m\n\u001b[1;32m     11\u001b[0m         \u001b[0mmodel\u001b[0m \u001b[0;34m=\u001b[0m \u001b[0msvm\u001b[0m\u001b[0;34m.\u001b[0m\u001b[0mSVC\u001b[0m\u001b[0;34m(\u001b[0m\u001b[0mC\u001b[0m \u001b[0;34m=\u001b[0m \u001b[0mc\u001b[0m\u001b[0;34m,\u001b[0m \u001b[0mkernel\u001b[0m \u001b[0;34m=\u001b[0m\u001b[0;34m'linear'\u001b[0m\u001b[0;34m)\u001b[0m\u001b[0;34m\u001b[0m\u001b[0m\n\u001b[0;32m---> 12\u001b[0;31m         \u001b[0mmodel\u001b[0m\u001b[0;34m.\u001b[0m\u001b[0mfit\u001b[0m\u001b[0;34m(\u001b[0m\u001b[0mX_train\u001b[0m\u001b[0;34m,\u001b[0m\u001b[0mclassholder_train\u001b[0m\u001b[0;34m)\u001b[0m\u001b[0;34m\u001b[0m\u001b[0m\n\u001b[0m\u001b[1;32m     13\u001b[0m         \u001b[0maccs\u001b[0m\u001b[0;34m[\u001b[0m\u001b[0mcount\u001b[0m\u001b[0;34m]\u001b[0m \u001b[0;34m=\u001b[0m \u001b[0mmodel\u001b[0m\u001b[0;34m.\u001b[0m\u001b[0mscore\u001b[0m\u001b[0;34m(\u001b[0m\u001b[0mX_test\u001b[0m\u001b[0;34m,\u001b[0m\u001b[0mclassholder_test\u001b[0m\u001b[0;34m)\u001b[0m\u001b[0;34m\u001b[0m\u001b[0m\n\u001b[1;32m     14\u001b[0m         \u001b[0mcount\u001b[0m \u001b[0;34m=\u001b[0m \u001b[0mcount\u001b[0m \u001b[0;34m+\u001b[0m \u001b[0;36m1\u001b[0m\u001b[0;34m\u001b[0m\u001b[0m\n",
      "\u001b[0;32m/Library/Frameworks/Python.framework/Versions/3.6/lib/python3.6/site-packages/sklearn/svm/base.py\u001b[0m in \u001b[0;36mfit\u001b[0;34m(self, X, y, sample_weight)\u001b[0m\n\u001b[1;32m    210\u001b[0m \u001b[0;34m\u001b[0m\u001b[0m\n\u001b[1;32m    211\u001b[0m         \u001b[0mseed\u001b[0m \u001b[0;34m=\u001b[0m \u001b[0mrnd\u001b[0m\u001b[0;34m.\u001b[0m\u001b[0mrandint\u001b[0m\u001b[0;34m(\u001b[0m\u001b[0mnp\u001b[0m\u001b[0;34m.\u001b[0m\u001b[0miinfo\u001b[0m\u001b[0;34m(\u001b[0m\u001b[0;34m'i'\u001b[0m\u001b[0;34m)\u001b[0m\u001b[0;34m.\u001b[0m\u001b[0mmax\u001b[0m\u001b[0;34m)\u001b[0m\u001b[0;34m\u001b[0m\u001b[0m\n\u001b[0;32m--> 212\u001b[0;31m         \u001b[0mfit\u001b[0m\u001b[0;34m(\u001b[0m\u001b[0mX\u001b[0m\u001b[0;34m,\u001b[0m \u001b[0my\u001b[0m\u001b[0;34m,\u001b[0m \u001b[0msample_weight\u001b[0m\u001b[0;34m,\u001b[0m \u001b[0msolver_type\u001b[0m\u001b[0;34m,\u001b[0m \u001b[0mkernel\u001b[0m\u001b[0;34m,\u001b[0m \u001b[0mrandom_seed\u001b[0m\u001b[0;34m=\u001b[0m\u001b[0mseed\u001b[0m\u001b[0;34m)\u001b[0m\u001b[0;34m\u001b[0m\u001b[0m\n\u001b[0m\u001b[1;32m    213\u001b[0m         \u001b[0;31m# see comment on the other call to np.iinfo in this file\u001b[0m\u001b[0;34m\u001b[0m\u001b[0;34m\u001b[0m\u001b[0m\n\u001b[1;32m    214\u001b[0m \u001b[0;34m\u001b[0m\u001b[0m\n",
      "\u001b[0;32m/Library/Frameworks/Python.framework/Versions/3.6/lib/python3.6/site-packages/sklearn/svm/base.py\u001b[0m in \u001b[0;36m_dense_fit\u001b[0;34m(self, X, y, sample_weight, solver_type, kernel, random_seed)\u001b[0m\n\u001b[1;32m    269\u001b[0m                 \u001b[0mcache_size\u001b[0m\u001b[0;34m=\u001b[0m\u001b[0mself\u001b[0m\u001b[0;34m.\u001b[0m\u001b[0mcache_size\u001b[0m\u001b[0;34m,\u001b[0m \u001b[0mcoef0\u001b[0m\u001b[0;34m=\u001b[0m\u001b[0mself\u001b[0m\u001b[0;34m.\u001b[0m\u001b[0mcoef0\u001b[0m\u001b[0;34m,\u001b[0m\u001b[0;34m\u001b[0m\u001b[0m\n\u001b[1;32m    270\u001b[0m                 \u001b[0mgamma\u001b[0m\u001b[0;34m=\u001b[0m\u001b[0mself\u001b[0m\u001b[0;34m.\u001b[0m\u001b[0m_gamma\u001b[0m\u001b[0;34m,\u001b[0m \u001b[0mepsilon\u001b[0m\u001b[0;34m=\u001b[0m\u001b[0mself\u001b[0m\u001b[0;34m.\u001b[0m\u001b[0mepsilon\u001b[0m\u001b[0;34m,\u001b[0m\u001b[0;34m\u001b[0m\u001b[0m\n\u001b[0;32m--> 271\u001b[0;31m                 max_iter=self.max_iter, random_seed=random_seed)\n\u001b[0m\u001b[1;32m    272\u001b[0m \u001b[0;34m\u001b[0m\u001b[0m\n\u001b[1;32m    273\u001b[0m         \u001b[0mself\u001b[0m\u001b[0;34m.\u001b[0m\u001b[0m_warn_from_fit_status\u001b[0m\u001b[0;34m(\u001b[0m\u001b[0;34m)\u001b[0m\u001b[0;34m\u001b[0m\u001b[0m\n",
      "\u001b[0;31mKeyboardInterrupt\u001b[0m: "
     ]
    }
   ],
   "source": [
    "print('c --- pred accuracy')\n",
    "\n",
    "cs = np.arange(0,10,0.5)\n",
    "\n",
    "for c in cs:\n",
    "    X_scaled = scale(X)\n",
    "    print(str(c) + '   ' + str(crossval(X_scaled, c)))\n",
    "        \n",
    "print(\"Complexity, or c value seems to yeild the best scores at 1.0. Changing g doesn't change the accuracy, but this makes sense as changing gamma only changes the accuracy when using rbf, which we cannot use (we must use linear).\")"
   ]
  },
  {
   "cell_type": "code",
   "execution_count": 102,
   "metadata": {},
   "outputs": [
    {
     "data": {
      "text/plain": [
       "(5875, 7)"
      ]
     },
     "execution_count": 102,
     "metadata": {},
     "output_type": "execute_result"
    }
   ],
   "source": [
    "Xnew = np.zeros([len(X),7])\n",
    "Xnew[:,0] = X[:,0]\n",
    "Xnew[:,1] = X[:,1]\n",
    "Xnew[:,2] = X[:,7]\n",
    "Xnew[:,3] = X[:,9]\n",
    "Xnew[:,4] = X[:,11]\n",
    "Xnew[:,5] = X[:,12]\n",
    "Xnew[:,6] = X[:,14]\n",
    "np.shape(Xnew)"
   ]
  },
  {
   "cell_type": "code",
   "execution_count": 103,
   "metadata": {},
   "outputs": [
    {
     "name": "stdout",
     "output_type": "stream",
     "text": [
      "c --- pred accuracy\n",
      "0.1   0.64085769496807\n",
      "1.0   0.6502131841606433\n",
      "10   0.650210433874114\n",
      "Complexity, or c value seems to yeild the best scores at 1.0. Changing g doesn't change the accuracy, but this makes sense as changing gamma only changes the accuracy when using rbf, which we cannot use (we must use linear).\n"
     ]
    }
   ],
   "source": [
    "print('c --- pred accuracy')\n",
    "\n",
    "cs = np.arange(0,10,0.5)\n",
    "\n",
    "for c in cs:\n",
    "    X_scaled = scale(Xnew)\n",
    "    print(str(c) + '   ' + str(crossval(X_scaled,c)))\n",
    "        \n",
    "print(\"Complexity, or c value seems to yeild the best scores at 1.0. Changing g doesn't change the accuracy, but this makes sense as changing gamma only changes the accuracy when using rbf, which we cannot use (we must use linear).\")"
   ]
  },
  {
   "cell_type": "code",
   "execution_count": null,
   "metadata": {},
   "outputs": [],
   "source": []
  }
 ],
 "metadata": {
  "kernelspec": {
   "display_name": "Python 3",
   "language": "python",
   "name": "python3"
  },
  "language_info": {
   "codemirror_mode": {
    "name": "ipython",
    "version": 3
   },
   "file_extension": ".py",
   "mimetype": "text/x-python",
   "name": "python",
   "nbconvert_exporter": "python",
   "pygments_lexer": "ipython3",
   "version": "3.6.5"
  }
 },
 "nbformat": 4,
 "nbformat_minor": 2
}
